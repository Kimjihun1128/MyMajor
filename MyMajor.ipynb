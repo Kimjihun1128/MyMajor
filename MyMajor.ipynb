{
  "nbformat": 4,
  "nbformat_minor": 0,
  "metadata": {
    "colab": {
      "provenance": [],
      "authorship_tag": "ABX9TyO9H6HvhSMQbM7Csgkxt+VI",
      "include_colab_link": true
    },
    "kernelspec": {
      "name": "python3",
      "display_name": "Python 3"
    },
    "language_info": {
      "name": "python"
    }
  },
  "cells": [
    {
      "cell_type": "markdown",
      "metadata": {
        "id": "view-in-github",
        "colab_type": "text"
      },
      "source": [
        "<a href=\"https://colab.research.google.com/github/Kimjihun1128/MyMajor/blob/main/MyMajor.ipynb\" target=\"_parent\"><img src=\"https://colab.research.google.com/assets/colab-badge.svg\" alt=\"Open In Colab\"/></a>"
      ]
    },
    {
      "cell_type": "markdown",
      "source": [
        "\n",
        "# **Introducing my major**\n",
        "## **My Major is Department of Media Imaging<font color='purple'>(미디어 영상 학과)</color>** 🎥\n",
        "\n",
        "### Media Imaging Department\n",
        "\n",
        "\n"
      ],
      "metadata": {
        "id": "nQWS2FK0CAYa"
      }
    }
  ]
}