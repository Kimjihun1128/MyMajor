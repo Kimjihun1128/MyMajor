{
  "nbformat": 4,
  "nbformat_minor": 0,
  "metadata": {
    "colab": {
      "provenance": [],
      "include_colab_link": true
    },
    "kernelspec": {
      "name": "python3",
      "display_name": "Python 3"
    },
    "language_info": {
      "name": "python"
    }
  },
  "cells": [
    {
      "cell_type": "markdown",
      "metadata": {
        "id": "view-in-github",
        "colab_type": "text"
      },
      "source": [
        "<a href=\"https://colab.research.google.com/github/Kimjihun1128/MyMajor/blob/main/MyMajor.ipynb\" target=\"_parent\"><img src=\"https://colab.research.google.com/assets/colab-badge.svg\" alt=\"Open In Colab\"/></a>"
      ]
    },
    {
      "cell_type": "markdown",
      "source": [
        "\n",
        "# 🎓**Introducing my major**🎓\n",
        "\n",
        "## **My Major is Department of Media Imaging<font color='purple'>(미디어 영상 학과)</color>**🎥\n",
        "\n",
        "#### 1️⃣ *Media imaging departments learn how to produce computer graphics or videos.*\n",
        "\n",
        "#### 2️⃣ *The Department of Media Imaging uses a lot of computers and uses a lot of electronic devices.*\n",
        "\n",
        "#### 3️⃣ *The Department of Media and Imaging later gets a job as a company that makes several stations or games.*\n",
        "\n",
        "#### 4️⃣ *The Department of Media and Imaging's lecture rooms are gathered on the fourth floor of Building 11.*\n",
        "[한남대학교 Map 참고](https://www.hannam.ac.kr/data/building.html)\n",
        "\n",
        "## **Jop**\n",
        "- #### *Advertising and public relations professionals*\n",
        "- #### *advertising production directors*\n",
        "- #### *weather forecasters*\n",
        "- #### *book leaders, reporters*\n",
        "- #### *marketing clerks*\n",
        "\n",
        "## **ability to possess**\n",
        "- #### *editing ability*\n",
        "- #### *photographic ability*\n",
        "\n"
      ],
      "metadata": {
        "id": "nQWS2FK0CAYa"
      }
    }
  ]
}